{
  "nbformat": 4,
  "nbformat_minor": 0,
  "metadata": {
    "colab": {
      "provenance": [],
      "authorship_tag": "ABX9TyPyhyCPNikBIiORRrAtik9H",
      "include_colab_link": true
    },
    "kernelspec": {
      "name": "python3",
      "display_name": "Python 3"
    },
    "language_info": {
      "name": "python"
    }
  },
  "cells": [
    {
      "cell_type": "markdown",
      "metadata": {
        "id": "view-in-github",
        "colab_type": "text"
      },
      "source": [
        "<a href=\"https://colab.research.google.com/github/MohammadMahdiOmid/DeepLearning/blob/master/CIFAR10_with_Keras.ipynb\" target=\"_parent\"><img src=\"https://colab.research.google.com/assets/colab-badge.svg\" alt=\"Open In Colab\"/></a>"
      ]
    },
    {
      "cell_type": "markdown",
      "source": [
        "**import library**"
      ],
      "metadata": {
        "id": "a_Mh2BNaSJGi"
      }
    },
    {
      "cell_type": "code",
      "execution_count": null,
      "metadata": {
        "id": "rbmqebeqSFEy"
      },
      "outputs": [],
      "source": [
        "import keras\n",
        "from keras.datasets import cifar10\n",
        "from keras.preprocessing.image import ImageDataGenerator\n",
        "from keras.models import Sequential\n",
        "from keras.layers import Dense,Dropout,Activation, Conv2D,MaxPooling2D,GlobalMaxPooling2D,BatchNormalization\n",
        "\n",
        "import matplotlib.pyplot as plt\n",
        "import seaborn as sb\n"
      ]
    },
    {
      "cell_type": "markdown",
      "source": [
        "**Load Data**"
      ],
      "metadata": {
        "id": "KCiPp33yUiq1"
      }
    },
    {
      "cell_type": "code",
      "source": [
        "batch_size=32\n",
        "data_augumentation=True\n",
        "num_class=10\n",
        "\n",
        "# Loading data from dataset and split it to train data and test data\n",
        "(x_train,y_train),(x_test,y_test)=cifar10.load_data()\n",
        "\n",
        "# printing just for demonstration\n",
        "print(\"x_train shape:\",x_train.shape)\n",
        "print(x_train.shape[0],\"x_train samples\")\n",
        "print(x_test.shape[0],\"x_test samples\")"
      ],
      "metadata": {
        "colab": {
          "base_uri": "https://localhost:8080/"
        },
        "id": "wROVt6SHUGT5",
        "outputId": "da58e5ba-4c87-4617-da65-3c0a39808d34"
      },
      "execution_count": null,
      "outputs": [
        {
          "output_type": "stream",
          "name": "stdout",
          "text": [
            "Downloading data from https://www.cs.toronto.edu/~kriz/cifar-10-python.tar.gz\n",
            "170498071/170498071 [==============================] - 2s 0us/step\n",
            "x_train shape: (50000, 32, 32, 3)\n",
            "50000 x_train samples\n",
            "10000 x_test samples\n"
          ]
        }
      ]
    },
    {
      "cell_type": "markdown",
      "source": [
        "**Convert class vector to binary matrix**\n"
      ],
      "metadata": {
        "id": "mkJt6GcFWSfx"
      }
    },
    {
      "cell_type": "code",
      "source": [
        "y_train=keras.utils.to_categorical(y_train, num_class)\n",
        "y_test=keras.utils.to_categorical(y_test, num_class)\n",
        "\n",
        "x_train=x_train.astype('float32')\n",
        "x_test=x_test.astype('float32')\n",
        "\n",
        "x_train/=255\n",
        "x_test/=255"
      ],
      "metadata": {
        "id": "ZzEJPgtKWYoE"
      },
      "execution_count": null,
      "outputs": []
    },
    {
      "cell_type": "markdown",
      "source": [
        "**creating some models just for practic**"
      ],
      "metadata": {
        "id": "HsSU7Z19Yf7p"
      }
    },
    {
      "cell_type": "code",
      "source": [
        "model= Sequential()\n",
        "\n",
        "model.add(Conv2D(32,(3,3),kernel_initializer='random_normal',input_shape=x_train.shape[1:]))\n",
        "model.add(Activation('relu'))\n",
        "\n",
        "model.add(Conv2D(32,(3,3),kernel_initializer='random_normal',input_shape=x_train.shape[1:]))\n",
        "model.add(Activation('relu'))\n",
        "\n",
        "model.add(Conv2D(32,(3,3),kernel_initializer='random_normal',input_shape=x_train.shape[1:]))\n",
        "model.add(Activation('relu'))\n",
        "\n",
        "model.add(Conv2D(48,(3,3),kernel_initializer='random_normal',input_shape=x_train.shape[1:]))\n",
        "model.add(Activation('relu'))\n",
        "\n",
        "model.add(Conv2D(48,(3,3),kernel_initializer='random_normal',input_shape=x_train.shape[1:]))\n",
        "model.add(Activation('relu'))\n",
        "\n",
        "model.add(GlobalMaxPooling2D())\n",
        "model.add(Dense(500))\n",
        "model.add(Dropout(0.25))\n",
        "model.add(Dense(num_class))\n",
        "model.add(Activation('softmax'))\n",
        "model.summary()\n"
      ],
      "metadata": {
        "colab": {
          "base_uri": "https://localhost:8080/"
        },
        "id": "e2Xq0l7YXFs7",
        "outputId": "b77426fc-9107-4843-e823-74b80c74aeec"
      },
      "execution_count": null,
      "outputs": [
        {
          "output_type": "stream",
          "name": "stdout",
          "text": [
            "Model: \"sequential_3\"\n",
            "_________________________________________________________________\n",
            " Layer (type)                Output Shape              Param #   \n",
            "=================================================================\n",
            " conv2d_11 (Conv2D)          (None, 30, 30, 32)        896       \n",
            "                                                                 \n",
            " activation_11 (Activation)  (None, 30, 30, 32)        0         \n",
            "                                                                 \n",
            " conv2d_12 (Conv2D)          (None, 28, 28, 32)        9248      \n",
            "                                                                 \n",
            " activation_12 (Activation)  (None, 28, 28, 32)        0         \n",
            "                                                                 \n",
            " conv2d_13 (Conv2D)          (None, 26, 26, 32)        9248      \n",
            "                                                                 \n",
            " activation_13 (Activation)  (None, 26, 26, 32)        0         \n",
            "                                                                 \n",
            " conv2d_14 (Conv2D)          (None, 24, 24, 48)        13872     \n",
            "                                                                 \n",
            " activation_14 (Activation)  (None, 24, 24, 48)        0         \n",
            "                                                                 \n",
            " conv2d_15 (Conv2D)          (None, 22, 22, 48)        20784     \n",
            "                                                                 \n",
            " activation_15 (Activation)  (None, 22, 22, 48)        0         \n",
            "                                                                 \n",
            " global_max_pooling2d_1 (Glo  (None, 48)               0         \n",
            " balMaxPooling2D)                                                \n",
            "                                                                 \n",
            " dense_2 (Dense)             (None, 500)               24500     \n",
            "                                                                 \n",
            " dropout_1 (Dropout)         (None, 500)               0         \n",
            "                                                                 \n",
            " dense_3 (Dense)             (None, 10)                5010      \n",
            "                                                                 \n",
            " activation_16 (Activation)  (None, 10)                0         \n",
            "                                                                 \n",
            "=================================================================\n",
            "Total params: 83,558\n",
            "Trainable params: 83,558\n",
            "Non-trainable params: 0\n",
            "_________________________________________________________________\n"
          ]
        }
      ]
    },
    {
      "cell_type": "markdown",
      "source": [
        "**Add optimizer**"
      ],
      "metadata": {
        "id": "9cfdGs_larbw"
      }
    },
    {
      "cell_type": "code",
      "source": [
        "model.compile(loss='categorical_crossentropy',optimizer='RMSprop',metrics=['accuracy'])"
      ],
      "metadata": {
        "id": "dxGG2Kd0at5J"
      },
      "execution_count": null,
      "outputs": []
    },
    {
      "cell_type": "markdown",
      "source": [
        "**fit model**"
      ],
      "metadata": {
        "id": "t96bxiDuclNG"
      }
    },
    {
      "cell_type": "code",
      "source": [
        "model_fit=model.fit(x_train, y_train,batch_size=batch_size,epochs=45,validation_data=(x_test,y_test),shuffle=True)"
      ],
      "metadata": {
        "colab": {
          "base_uri": "https://localhost:8080/"
        },
        "id": "p6QWpt6fcoGU",
        "outputId": "94028458-e75a-46fd-a4d9-3e8235de5aac"
      },
      "execution_count": null,
      "outputs": [
        {
          "output_type": "stream",
          "name": "stdout",
          "text": [
            "Epoch 1/45\n",
            "1563/1563 [==============================] - 386s 246ms/step - loss: 1.8615 - accuracy: 0.3027 - val_loss: 1.7229 - val_accuracy: 0.3620\n",
            "Epoch 2/45\n",
            "1563/1563 [==============================] - 370s 237ms/step - loss: 1.4940 - accuracy: 0.4487 - val_loss: 1.5007 - val_accuracy: 0.4553\n",
            "Epoch 3/45\n",
            "1563/1563 [==============================] - 377s 241ms/step - loss: 1.3464 - accuracy: 0.5115 - val_loss: 1.3202 - val_accuracy: 0.5193\n",
            "Epoch 4/45\n",
            "1563/1563 [==============================] - 494s 316ms/step - loss: 1.2527 - accuracy: 0.5490 - val_loss: 1.2544 - val_accuracy: 0.5517\n",
            "Epoch 5/45\n",
            "1563/1563 [==============================] - 436s 279ms/step - loss: 1.1905 - accuracy: 0.5731 - val_loss: 1.1973 - val_accuracy: 0.5685\n",
            "Epoch 6/45\n",
            "1563/1563 [==============================] - 432s 276ms/step - loss: 1.1425 - accuracy: 0.5914 - val_loss: 1.1655 - val_accuracy: 0.5844\n",
            "Epoch 7/45\n",
            "1563/1563 [==============================] - 451s 288ms/step - loss: 1.0969 - accuracy: 0.6098 - val_loss: 1.1092 - val_accuracy: 0.6050\n",
            "Epoch 8/45\n",
            "1563/1563 [==============================] - 383s 245ms/step - loss: 1.0641 - accuracy: 0.6244 - val_loss: 1.0894 - val_accuracy: 0.6123\n",
            "Epoch 9/45\n",
            "1563/1563 [==============================] - 385s 246ms/step - loss: 1.0339 - accuracy: 0.6322 - val_loss: 1.4541 - val_accuracy: 0.5054\n",
            "Epoch 10/45\n",
            "1563/1563 [==============================] - 386s 247ms/step - loss: 1.0067 - accuracy: 0.6428 - val_loss: 1.0789 - val_accuracy: 0.6184\n",
            "Epoch 11/45\n",
            "1563/1563 [==============================] - 386s 247ms/step - loss: 0.9884 - accuracy: 0.6523 - val_loss: 1.1580 - val_accuracy: 0.6037\n",
            "Epoch 12/45\n",
            "1563/1563 [==============================] - 384s 246ms/step - loss: 0.9715 - accuracy: 0.6571 - val_loss: 1.1211 - val_accuracy: 0.6009\n",
            "Epoch 13/45\n",
            "1563/1563 [==============================] - 384s 246ms/step - loss: 0.9497 - accuracy: 0.6632 - val_loss: 1.1160 - val_accuracy: 0.6197\n",
            "Epoch 14/45\n",
            "1563/1563 [==============================] - 385s 246ms/step - loss: 0.9330 - accuracy: 0.6704 - val_loss: 1.0337 - val_accuracy: 0.6406\n",
            "Epoch 15/45\n",
            "1563/1563 [==============================] - 385s 246ms/step - loss: 0.9169 - accuracy: 0.6751 - val_loss: 1.0834 - val_accuracy: 0.6278\n",
            "Epoch 16/45\n",
            "1563/1563 [==============================] - 384s 246ms/step - loss: 0.9002 - accuracy: 0.6811 - val_loss: 1.0030 - val_accuracy: 0.6505\n",
            "Epoch 17/45\n",
            "1563/1563 [==============================] - 385s 246ms/step - loss: 0.8861 - accuracy: 0.6875 - val_loss: 1.0195 - val_accuracy: 0.6504\n",
            "Epoch 18/45\n",
            "1563/1563 [==============================] - 383s 245ms/step - loss: 0.8698 - accuracy: 0.6932 - val_loss: 1.0050 - val_accuracy: 0.6483\n",
            "Epoch 19/45\n",
            "1563/1563 [==============================] - 380s 243ms/step - loss: 0.8563 - accuracy: 0.6993 - val_loss: 1.0187 - val_accuracy: 0.6446\n",
            "Epoch 20/45\n",
            "1563/1563 [==============================] - 380s 243ms/step - loss: 0.8478 - accuracy: 0.7002 - val_loss: 1.0797 - val_accuracy: 0.6338\n",
            "Epoch 21/45\n",
            "1563/1563 [==============================] - 381s 244ms/step - loss: 0.8345 - accuracy: 0.7065 - val_loss: 1.1482 - val_accuracy: 0.6172\n",
            "Epoch 22/45\n",
            "1563/1563 [==============================] - 381s 244ms/step - loss: 0.8200 - accuracy: 0.7130 - val_loss: 1.1142 - val_accuracy: 0.6186\n",
            "Epoch 23/45\n",
            "1563/1563 [==============================] - 380s 243ms/step - loss: 0.8043 - accuracy: 0.7151 - val_loss: 1.0141 - val_accuracy: 0.6535\n",
            "Epoch 24/45\n",
            "1563/1563 [==============================] - 379s 242ms/step - loss: 0.7969 - accuracy: 0.7184 - val_loss: 1.0798 - val_accuracy: 0.6361\n",
            "Epoch 25/45\n",
            "1563/1563 [==============================] - 379s 243ms/step - loss: 0.7869 - accuracy: 0.7218 - val_loss: 1.1976 - val_accuracy: 0.6060\n",
            "Epoch 26/45\n",
            "1563/1563 [==============================] - 377s 241ms/step - loss: 0.7779 - accuracy: 0.7264 - val_loss: 1.1161 - val_accuracy: 0.6275\n",
            "Epoch 27/45\n",
            "1563/1563 [==============================] - 376s 241ms/step - loss: 0.7692 - accuracy: 0.7286 - val_loss: 1.0763 - val_accuracy: 0.6387\n",
            "Epoch 28/45\n",
            "1563/1563 [==============================] - 381s 244ms/step - loss: 0.7590 - accuracy: 0.7342 - val_loss: 1.0745 - val_accuracy: 0.6379\n",
            "Epoch 29/45\n",
            "1563/1563 [==============================] - 382s 244ms/step - loss: 0.7529 - accuracy: 0.7322 - val_loss: 1.0834 - val_accuracy: 0.6430\n",
            "Epoch 30/45\n",
            "1563/1563 [==============================] - 381s 244ms/step - loss: 0.7402 - accuracy: 0.7372 - val_loss: 1.0736 - val_accuracy: 0.6473\n",
            "Epoch 31/45\n",
            "1563/1563 [==============================] - 381s 244ms/step - loss: 0.7325 - accuracy: 0.7416 - val_loss: 1.0908 - val_accuracy: 0.6442\n",
            "Epoch 32/45\n",
            "1563/1563 [==============================] - 383s 245ms/step - loss: 0.7268 - accuracy: 0.7458 - val_loss: 1.1026 - val_accuracy: 0.6357\n",
            "Epoch 33/45\n",
            "1563/1563 [==============================] - 386s 247ms/step - loss: 0.7139 - accuracy: 0.7463 - val_loss: 1.0345 - val_accuracy: 0.6629\n",
            "Epoch 34/45\n",
            "1563/1563 [==============================] - 383s 245ms/step - loss: 0.7093 - accuracy: 0.7518 - val_loss: 1.0687 - val_accuracy: 0.6451\n",
            "Epoch 35/45\n",
            "1563/1563 [==============================] - 383s 245ms/step - loss: 0.7012 - accuracy: 0.7516 - val_loss: 1.0709 - val_accuracy: 0.6496\n",
            "Epoch 36/45\n",
            "1563/1563 [==============================] - 382s 244ms/step - loss: 0.6941 - accuracy: 0.7538 - val_loss: 1.0705 - val_accuracy: 0.6523\n",
            "Epoch 37/45\n",
            "1563/1563 [==============================] - 384s 246ms/step - loss: 0.6851 - accuracy: 0.7592 - val_loss: 1.1809 - val_accuracy: 0.6378\n",
            "Epoch 38/45\n",
            "1563/1563 [==============================] - 382s 245ms/step - loss: 0.6819 - accuracy: 0.7598 - val_loss: 1.0840 - val_accuracy: 0.6566\n",
            "Epoch 39/45\n",
            "1563/1563 [==============================] - 383s 245ms/step - loss: 0.6664 - accuracy: 0.7647 - val_loss: 1.0887 - val_accuracy: 0.6509\n",
            "Epoch 40/45\n",
            "1563/1563 [==============================] - 381s 243ms/step - loss: 0.6646 - accuracy: 0.7659 - val_loss: 1.1324 - val_accuracy: 0.6432\n",
            "Epoch 41/45\n",
            "1563/1563 [==============================] - 382s 244ms/step - loss: 0.6560 - accuracy: 0.7654 - val_loss: 1.0700 - val_accuracy: 0.6601\n",
            "Epoch 42/45\n",
            "1563/1563 [==============================] - 379s 243ms/step - loss: 0.6474 - accuracy: 0.7697 - val_loss: 1.1262 - val_accuracy: 0.6416\n",
            "Epoch 43/45\n",
            "1563/1563 [==============================] - 378s 242ms/step - loss: 0.6458 - accuracy: 0.7718 - val_loss: 1.1079 - val_accuracy: 0.6464\n",
            "Epoch 44/45\n",
            "1563/1563 [==============================] - 379s 243ms/step - loss: 0.6367 - accuracy: 0.7746 - val_loss: 1.1394 - val_accuracy: 0.6458\n",
            "Epoch 45/45\n",
            "1563/1563 [==============================] - 381s 244ms/step - loss: 0.6278 - accuracy: 0.7760 - val_loss: 1.1232 - val_accuracy: 0.6502\n"
          ]
        }
      ]
    },
    {
      "cell_type": "markdown",
      "source": [
        "**Plotting**"
      ],
      "metadata": {
        "id": "rL6qmSpvlFie"
      }
    },
    {
      "cell_type": "markdown",
      "source": [
        "plot accuracy between train data and validation"
      ],
      "metadata": {
        "id": "qTl-5tjEms6i"
      }
    },
    {
      "cell_type": "code",
      "source": [
        "plt.figure(figsize=(10,6))\n",
        "sb.set_style('whitegrid')\n",
        "plt.plot(model_fit.history['accuracy'],color='#E74C3C',marker='o')\n",
        "plt.plot(model_fit.history['val_accuracy'],color='#641E16',marker='h')\n",
        "plt.title('Accuracy between Train Data and Validation',fontsize=15)\n",
        "plt.xlabel('Epochs')\n",
        "plt.ylabel('Accuracy')\n",
        "plt.legend(['Train','Test'],loc='lower right')\n",
        "plt.show()\n",
        "plt.savefig(\"Fig1.png\")"
      ],
      "metadata": {
        "colab": {
          "base_uri": "https://localhost:8080/",
          "height": 423
        },
        "id": "RK4h0DD6ky5c",
        "outputId": "3be72ff9-3d2a-44a4-98ca-85764771766f"
      },
      "execution_count": null,
      "outputs": [
        {
          "output_type": "display_data",
          "data": {
            "text/plain": [
              "<Figure size 720x432 with 1 Axes>"
            ],
            "image/png": "[encoded data removed]"
          },
          "metadata": {}
        },
        {
          "output_type": "display_data",
          "data": {
            "text/plain": [
              "<Figure size 432x288 with 0 Axes>"
            ]
          },
          "metadata": {}
        }
      ]
    },
    {
      "cell_type": "markdown",
      "source": [
        "plot loss between train data and validation"
      ],
      "metadata": {
        "id": "qtzhLMz4m4mE"
      }
    },
    {
      "cell_type": "code",
      "source": [
        "plt.figure(figsize=(10,6))\n",
        "sb.set_style('whitegrid')\n",
        "plt.plot(model_fit.history['loss'],color='#bf2718',marker='o')\n",
        "plt.plot(model_fit.history['val_loss'],color='#18bf27',marker='h')\n",
        "plt.title('Loss between Train Data and Validation',fontsize=15)\n",
        "plt.xlabel('Epochs')\n",
        "plt.ylabel('Accuracy')\n",
        "plt.legend(['Train','Test'],loc='best')\n",
        "plt.show()\n",
        "plt.savefig(\"Fig2.png\")"
      ],
      "metadata": {
        "colab": {
          "base_uri": "https://localhost:8080/",
          "height": 423
        },
        "id": "JAJriWBVm--5",
        "outputId": "2f554d81-cf22-4b67-f315-ce472e7375da"
      },
      "execution_count": null,
      "outputs": [
        {
          "output_type": "display_data",
          "data": {
            "text/plain": [
              "<Figure size 720x432 with 1 Axes>"
            ],
            "image/png": "[encoded data removed]"
          },
          "metadata": {}
        },
        {
          "output_type": "display_data",
          "data": {
            "text/plain": [
              "<Figure size 432x288 with 0 Axes>"
            ]
          },
          "metadata": {}
        }
      ]
    },
    {
      "cell_type": "markdown",
      "source": [
        "plot both of accuracy and loss"
      ],
      "metadata": {
        "id": "6C6rpG4EnW4N"
      }
    },
    {
      "cell_type": "code",
      "source": [
        "plt.figure(figsize=(10,6))\n",
        "sb.set_style('whitegrid')\n",
        "plt.plot(model_fit.history['accuracy'],color='#E74C3C',marker='o')\n",
        "plt.plot(model_fit.history['val_accuracy'],color='#641E16',marker='h')\n",
        "plt.plot(model_fit.history['loss'],color='#bf2718',marker='o')\n",
        "plt.plot(model_fit.history['val_loss'],color='#18bf27',marker='h')\n",
        "\n",
        "plt.title('Compare accuracy and loss ',fontsize=15)\n",
        "plt.xlabel('Epochs')\n",
        "plt.ylabel('Accuracy')\n",
        "plt.show()\n",
        "plt.savefig(\"Fig3.png\")"
      ],
      "metadata": {
        "colab": {
          "base_uri": "https://localhost:8080/",
          "height": 423
        },
        "id": "MKIKzBmOnbH_",
        "outputId": "478e5b94-2a2a-41ca-8b03-978287fecd2d"
      },
      "execution_count": null,
      "outputs": [
        {
          "output_type": "display_data",
          "data": {
            "text/plain": [
              "<Figure size 720x432 with 1 Axes>"
            ],
            "image/png": "[encoded data removed]"
          },
          "metadata": {}
        },
        {
          "output_type": "display_data",
          "data": {
            "text/plain": [
              "<Figure size 432x288 with 0 Axes>"
            ]
          },
          "metadata": {}
        }
      ]
    },
    {
      "cell_type": "markdown",
      "source": [
        "**another model**"
      ],
      "metadata": {
        "id": "jXGdKxOsofUV"
      }
    },
    {
      "cell_type": "code",
      "source": [
        "model2=Sequential()\n",
        "\n",
        "model2.add(Conv2D(32,(3,3),kernel_initializer='random_uniform',input_shape=x_train.shape[1:]))\n",
        "model2.add(Activation('relu'))\n",
        "model2.add(BatchNormalization())\n",
        "\n",
        "model2.add(Conv2D(32,(3,3),kernel_initializer='random_uniform',input_shape=x_train.shape[1:]))\n",
        "model2.add(Activation('relu'))\n",
        "model2.add(BatchNormalization())\n",
        "\n",
        "model2.add(Conv2D(32,(3,3),kernel_initializer='random_uniform',input_shape=x_train.shape[1:]))\n",
        "model2.add(Activation('relu'))\n",
        "model2.add(BatchNormalization())\n",
        "\n",
        "model2.add(Conv2D(48,(3,3),kernel_initializer='random_uniform',input_shape=x_train.shape[1:]))\n",
        "model2.add(Activation('relu'))\n",
        "model2.add(BatchNormalization())\n",
        "\n",
        "model2.add(Conv2D(48,(3,3),kernel_initializer='random_uniform',input_shape=x_train.shape[1:]))\n",
        "model2.add(Activation('relu'))\n",
        "model2.add(BatchNormalization())\n",
        "\n",
        "model2.add(Conv2D(48,(3,3),kernel_initializer='random_uniform',input_shape=x_train.shape[1:]))\n",
        "model2.add(Activation('relu'))\n",
        "model2.add(BatchNormalization())\n",
        "\n",
        "model2.add(Conv2D(64,(3,3),kernel_initializer='random_uniform',input_shape=x_train.shape[1:]))\n",
        "model2.add(Activation('relu'))\n",
        "model2.add(BatchNormalization())\n",
        "\n",
        "model2.add(Conv2D(128,(3,3),kernel_initializer='random_uniform',input_shape=x_train.shape[1:]))\n",
        "model2.add(Activation('relu'))\n",
        "model2.add(BatchNormalization())\n",
        "\n",
        "model2.add(GlobalMaxPooling2D())\n",
        "model2.add(Dropout(0.25))\n",
        "model2.add(Dense(num_class))\n",
        "model2.add(Activation('softmax'))\n",
        "model2.summary()"
      ],
      "metadata": {
        "id": "xam9YUXmokSY",
        "colab": {
          "base_uri": "https://localhost:8080/"
        },
        "outputId": "a3474f78-3f0a-40d2-d28a-2db6fa8fb9c8"
      },
      "execution_count": null,
      "outputs": [
        {
          "output_type": "stream",
          "name": "stdout",
          "text": [
            "Model: \"sequential_1\"\n",
            "_________________________________________________________________\n",
            " Layer (type)                Output Shape              Param #   \n",
            "=================================================================\n",
            " conv2d_8 (Conv2D)           (None, 30, 30, 32)        896       \n",
            "                                                                 \n",
            " activation_8 (Activation)   (None, 30, 30, 32)        0         \n",
            "                                                                 \n",
            " batch_normalization_8 (Batc  (None, 30, 30, 32)       128       \n",
            " hNormalization)                                                 \n",
            "                                                                 \n",
            " conv2d_9 (Conv2D)           (None, 28, 28, 32)        9248      \n",
            "                                                                 \n",
            " activation_9 (Activation)   (None, 28, 28, 32)        0         \n",
            "                                                                 \n",
            " batch_normalization_9 (Batc  (None, 28, 28, 32)       128       \n",
            " hNormalization)                                                 \n",
            "                                                                 \n",
            " conv2d_10 (Conv2D)          (None, 26, 26, 32)        9248      \n",
            "                                                                 \n",
            " activation_10 (Activation)  (None, 26, 26, 32)        0         \n",
            "                                                                 \n",
            " batch_normalization_10 (Bat  (None, 26, 26, 32)       128       \n",
            " chNormalization)                                                \n",
            "                                                                 \n",
            " conv2d_11 (Conv2D)          (None, 24, 24, 48)        13872     \n",
            "                                                                 \n",
            " activation_11 (Activation)  (None, 24, 24, 48)        0         \n",
            "                                                                 \n",
            " batch_normalization_11 (Bat  (None, 24, 24, 48)       192       \n",
            " chNormalization)                                                \n",
            "                                                                 \n",
            " conv2d_12 (Conv2D)          (None, 22, 22, 48)        20784     \n",
            "                                                                 \n",
            " activation_12 (Activation)  (None, 22, 22, 48)        0         \n",
            "                                                                 \n",
            " batch_normalization_12 (Bat  (None, 22, 22, 48)       192       \n",
            " chNormalization)                                                \n",
            "                                                                 \n",
            " conv2d_13 (Conv2D)          (None, 20, 20, 48)        20784     \n",
            "                                                                 \n",
            " activation_13 (Activation)  (None, 20, 20, 48)        0         \n",
            "                                                                 \n",
            " batch_normalization_13 (Bat  (None, 20, 20, 48)       192       \n",
            " chNormalization)                                                \n",
            "                                                                 \n",
            " conv2d_14 (Conv2D)          (None, 18, 18, 64)        27712     \n",
            "                                                                 \n",
            " activation_14 (Activation)  (None, 18, 18, 64)        0         \n",
            "                                                                 \n",
            " batch_normalization_14 (Bat  (None, 18, 18, 64)       256       \n",
            " chNormalization)                                                \n",
            "                                                                 \n",
            " conv2d_15 (Conv2D)          (None, 16, 16, 128)       73856     \n",
            "                                                                 \n",
            " activation_15 (Activation)  (None, 16, 16, 128)       0         \n",
            "                                                                 \n",
            " batch_normalization_15 (Bat  (None, 16, 16, 128)      512       \n",
            " chNormalization)                                                \n",
            "                                                                 \n",
            " global_max_pooling2d (Globa  (None, 128)              0         \n",
            " lMaxPooling2D)                                                  \n",
            "                                                                 \n",
            " dropout (Dropout)           (None, 128)               0         \n",
            "                                                                 \n",
            " dense (Dense)               (None, 10)                1290      \n",
            "                                                                 \n",
            " activation_16 (Activation)  (None, 10)                0         \n",
            "                                                                 \n",
            "=================================================================\n",
            "Total params: 179,418\n",
            "Trainable params: 178,554\n",
            "Non-trainable params: 864\n",
            "_________________________________________________________________\n"
          ]
        }
      ]
    },
    {
      "cell_type": "markdown",
      "source": [
        "**Add optimizer**"
      ],
      "metadata": {
        "id": "haqQcovHqAKa"
      }
    },
    {
      "cell_type": "code",
      "source": [
        "opt=keras.optimizers.Adamax(learning_rate=0.001)\n",
        "model2.compile(loss='categorical_crossentropy',optimizer=opt,metrics=['accuracy'])"
      ],
      "metadata": {
        "id": "ELJZBSi5qCIf",
        "colab": {
          "base_uri": "https://localhost:8080/",
          "height": 183
        },
        "outputId": "75cbd8fb-82a0-46fe-a75c-cb46c35ce1dc"
      },
      "execution_count": null,
      "outputs": [
        {
          "output_type": "error",
          "ename": "NameError",
          "evalue": "ignored",
          "traceback": [
            "\u001b[0;31m---------------------------------------------------------------------------\u001b[0m",
            "\u001b[0;31mNameError\u001b[0m                                 Traceback (most recent call last)",
            "\u001b[0;32m<ipython-input-2-de149ad93572>\u001b[0m in \u001b[0;36m<module>\u001b[0;34m\u001b[0m\n\u001b[0;32m----> 1\u001b[0;31m \u001b[0mopt\u001b[0m\u001b[0;34m=\u001b[0m\u001b[0mkeras\u001b[0m\u001b[0;34m.\u001b[0m\u001b[0moptimizers\u001b[0m\u001b[0;34m.\u001b[0m\u001b[0mAdamax\u001b[0m\u001b[0;34m(\u001b[0m\u001b[0mlearning_rate\u001b[0m\u001b[0;34m=\u001b[0m\u001b[0;36m0.001\u001b[0m\u001b[0;34m)\u001b[0m\u001b[0;34m\u001b[0m\u001b[0;34m\u001b[0m\u001b[0m\n\u001b[0m\u001b[1;32m      2\u001b[0m \u001b[0mmodel2\u001b[0m\u001b[0;34m.\u001b[0m\u001b[0mcompile\u001b[0m\u001b[0;34m(\u001b[0m\u001b[0mloss\u001b[0m\u001b[0;34m=\u001b[0m\u001b[0;34m'categorical_crossentropy'\u001b[0m\u001b[0;34m,\u001b[0m\u001b[0moptimizer\u001b[0m\u001b[0;34m=\u001b[0m\u001b[0mopt\u001b[0m\u001b[0;34m,\u001b[0m\u001b[0mmetrics\u001b[0m\u001b[0;34m=\u001b[0m\u001b[0;34m[\u001b[0m\u001b[0;34m'accuracy'\u001b[0m\u001b[0;34m]\u001b[0m\u001b[0;34m)\u001b[0m\u001b[0;34m\u001b[0m\u001b[0;34m\u001b[0m\u001b[0m\n",
            "\u001b[0;31mNameError\u001b[0m: name 'keras' is not defined"
          ]
        }
      ]
    },
    {
      "cell_type": "markdown",
      "source": [
        "**Fit model**"
      ],
      "metadata": {
        "id": "ynMRdSm-qlU_"
      }
    },
    {
      "cell_type": "code",
      "source": [
        "second_model_fit=model2.fit(x_train, y_train,batch_size=500,epochs=100,validation_data=(x_test,y_test),shuffle=True)"
      ],
      "metadata": {
        "id": "DwI1jo0pqr7M",
        "colab": {
          "base_uri": "https://localhost:8080/",
          "height": 165
        },
        "outputId": "40efc1f2-b90d-4381-e9eb-1db313d09e68"
      },
      "execution_count": null,
      "outputs": [
        {
          "output_type": "error",
          "ename": "NameError",
          "evalue": "ignored",
          "traceback": [
            "\u001b[0;31m---------------------------------------------------------------------------\u001b[0m",
            "\u001b[0;31mNameError\u001b[0m                                 Traceback (most recent call last)",
            "\u001b[0;32m<ipython-input-1-283c89f8d564>\u001b[0m in \u001b[0;36m<module>\u001b[0;34m\u001b[0m\n\u001b[0;32m----> 1\u001b[0;31m \u001b[0msecond_model_fit\u001b[0m\u001b[0;34m=\u001b[0m\u001b[0mmodel2\u001b[0m\u001b[0;34m.\u001b[0m\u001b[0mfit\u001b[0m\u001b[0;34m(\u001b[0m\u001b[0mx_train\u001b[0m\u001b[0;34m,\u001b[0m \u001b[0my_train\u001b[0m\u001b[0;34m,\u001b[0m\u001b[0mbatch_size\u001b[0m\u001b[0;34m=\u001b[0m\u001b[0;36m500\u001b[0m\u001b[0;34m,\u001b[0m\u001b[0mepochs\u001b[0m\u001b[0;34m=\u001b[0m\u001b[0;36m100\u001b[0m\u001b[0;34m,\u001b[0m\u001b[0mvalidation_data\u001b[0m\u001b[0;34m=\u001b[0m\u001b[0;34m(\u001b[0m\u001b[0mx_test\u001b[0m\u001b[0;34m,\u001b[0m\u001b[0my_test\u001b[0m\u001b[0;34m)\u001b[0m\u001b[0;34m,\u001b[0m\u001b[0mshuffle\u001b[0m\u001b[0;34m=\u001b[0m\u001b[0;32mTrue\u001b[0m\u001b[0;34m)\u001b[0m\u001b[0;34m\u001b[0m\u001b[0;34m\u001b[0m\u001b[0m\n\u001b[0m",
            "\u001b[0;31mNameError\u001b[0m: name 'model2' is not defined"
          ]
        }
      ]
    },
    {
      "cell_type": "markdown",
      "source": [
        "**Plotting**"
      ],
      "metadata": {
        "id": "7m_vbtvbqz96"
      }
    },
    {
      "cell_type": "markdown",
      "source": [
        "plot accuracy between train data and validation"
      ],
      "metadata": {
        "id": "taDFQMW9rAXv"
      }
    },
    {
      "cell_type": "code",
      "source": [
        "plt.figure(figsize=(10,6))\n",
        "sb.setstyle('whitegrid')\n",
        "plt.plot(second_model_fit.history['acc'],color='#E74C3C',marker='o')\n",
        "plt.plot(second_model_fit.history['val_acc'],color='#641E16',marker='h')\n",
        "plt.title('Accuracy between Train Data and Validation',fontsize=15)\n",
        "plt.xlable('Epochs')\n",
        "plt.ylable('Accuracy')\n",
        "plt.legend(['Train','Test'],loc='lower right')\n",
        "plt.show()"
      ],
      "metadata": {
        "id": "60BwjkZHq2hU"
      },
      "execution_count": null,
      "outputs": []
    },
    {
      "cell_type": "markdown",
      "source": [
        "plot loss between train data and validation"
      ],
      "metadata": {
        "id": "MD-eFeGhq8PW"
      }
    },
    {
      "cell_type": "code",
      "source": [
        "plt.figure(figsize=(10,6))\n",
        "sb.setstyle('whitegrid')\n",
        "plt.plot(second_model_fit.history['loss'],color='#Purple',marker='o')\n",
        "plt.plot(second_model_fit.history['val_loss'],color='#Orange',marker='h')\n",
        "plt.title('Loss between Train Data and Validation',fontsize=15)\n",
        "plt.xlable('Epochs')\n",
        "plt.ylable('Accuracy')\n",
        "plt.legend(['Train','Test'],loc='best')\n",
        "plt.show()"
      ],
      "metadata": {
        "id": "22TSTwkUq8Y4"
      },
      "execution_count": null,
      "outputs": []
    },
    {
      "cell_type": "markdown",
      "source": [
        "plot both of accuracy and loss"
      ],
      "metadata": {
        "id": "YmnWscZ2rRQF"
      }
    },
    {
      "cell_type": "code",
      "source": [
        "plt.figure(figsize=(10,6))\n",
        "sb.setstyle('whitegrid')\n",
        "plt.plot(second_model_fit.history['acc'],color='#E74C3C',marker='o')\n",
        "plt.plot(second_model_fit.history['val_acc'],color='#641E16',marker='h')\n",
        "plt.plot(second_model_fit.history['loss'],color='#Purple',marker='o')\n",
        "plt.plot(second_model_fit.history['val_loss'],color='#Orange',marker='h')\n",
        "\n",
        "plt.title('Compare accuracy and loss ',fontsize=15)\n",
        "plt.xlable('Epochs')\n",
        "plt.ylable('Accuracy')\n",
        "# plt.legend(['Train','Test'],loc='best')\n",
        "plt.show()"
      ],
      "metadata": {
        "id": "MmwFKhyprT7V"
      },
      "execution_count": null,
      "outputs": []
    }
  ]
}