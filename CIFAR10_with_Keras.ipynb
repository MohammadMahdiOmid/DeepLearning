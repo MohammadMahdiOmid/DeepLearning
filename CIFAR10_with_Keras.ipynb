{
  "nbformat": 4,
  "nbformat_minor": 0,
  "metadata": {
    "colab": {
      "provenance": [],
      "authorship_tag": "ABX9TyMk6gEvV85zlWf0BLxW9TJT",
      "include_colab_link": true
    },
    "kernelspec": {
      "name": "python3",
      "display_name": "Python 3"
    },
    "language_info": {
      "name": "python"
    }
  },
  "cells": [
    {
      "cell_type": "markdown",
      "metadata": {
        "id": "view-in-github",
        "colab_type": "text"
      },
      "source": [
        "<a href=\"https://colab.research.google.com/github/MohammadMahdiOmid/DeepLearning/blob/master/CIFAR10_with_Keras.ipynb\" target=\"_parent\"><img src=\"https://colab.research.google.com/assets/colab-badge.svg\" alt=\"Open In Colab\"/></a>"
      ]
    },
    {
      "cell_type": "markdown",
      "source": [
        "**import library**"
      ],
      "metadata": {
        "id": "a_Mh2BNaSJGi"
      }
    },
    {
      "cell_type": "code",
      "execution_count": 3,
      "metadata": {
        "id": "rbmqebeqSFEy"
      },
      "outputs": [],
      "source": [
        "import keras\n",
        "from keras.datasets import cifar10\n",
        "from keras.preprocessing.image import ImageDataGenerator\n",
        "from keras.models import Sequential\n",
        "from keras.layers import Dense,Dropout,Activation, Conv2D,MaxPooling2D,GlobalMaxPooling2D,BatchNormalization\n",
        "\n"
      ]
    },
    {
      "cell_type": "markdown",
      "source": [
        "**Load Data**"
      ],
      "metadata": {
        "id": "KCiPp33yUiq1"
      }
    },
    {
      "cell_type": "code",
      "source": [
        "batch_size=32\n",
        "data_augumentation=True\n",
        "num_class=10\n",
        "\n",
        "# Loading data from dataset and split it to train data and test data\n",
        "(x_train,y_train),(x_test,y_test)=cifar10.load_data()\n",
        "\n",
        "# printing just for demonstration\n",
        "print(\"x_train shape:\",x_train.shape)\n",
        "print(x_train.shape[0],\"x_train samples\")\n",
        "print(x_test.shape[0],\"x_test samples\")"
      ],
      "metadata": {
        "colab": {
          "base_uri": "https://localhost:8080/"
        },
        "id": "wROVt6SHUGT5",
        "outputId": "3fad6c37-183b-4fab-c31a-30e254572b97"
      },
      "execution_count": 5,
      "outputs": [
        {
          "output_type": "stream",
          "name": "stdout",
          "text": [
            "x_train shape: (50000, 32, 32, 3)\n",
            "50000 x_train samples\n",
            "10000 x_test samples\n"
          ]
        }
      ]
    },
    {
      "cell_type": "markdown",
      "source": [
        "**Convert class vector to binary matrix**\n"
      ],
      "metadata": {
        "id": "mkJt6GcFWSfx"
      }
    },
    {
      "cell_type": "code",
      "source": [
        "y_train=keras.utils.to_categorical(y_train, num_class)\n",
        "y_test=keras.utils.to_categorical(y_test, num_class)\n",
        "\n",
        "x_train=x_train.astype('float32')\n",
        "x_test=x_test.astype('float32')"
      ],
      "metadata": {
        "id": "ZzEJPgtKWYoE"
      },
      "execution_count": 6,
      "outputs": []
    }
  ]
}