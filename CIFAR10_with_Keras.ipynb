{
  "nbformat": 4,
  "nbformat_minor": 0,
  "metadata": {
    "colab": {
      "provenance": [],
      "authorship_tag": "ABX9TyO1S3epV+1zXbkS/zuOoFJi",
      "include_colab_link": true
    },
    "kernelspec": {
      "name": "python3",
      "display_name": "Python 3"
    },
    "language_info": {
      "name": "python"
    }
  },
  "cells": [
    {
      "cell_type": "markdown",
      "metadata": {
        "id": "view-in-github",
        "colab_type": "text"
      },
      "source": [
        "<a href=\"https://colab.research.google.com/github/MohammadMahdiOmid/DeepLearning/blob/master/CIFAR10_with_Keras.ipynb\" target=\"_parent\"><img src=\"https://colab.research.google.com/assets/colab-badge.svg\" alt=\"Open In Colab\"/></a>"
      ]
    },
    {
      "cell_type": "markdown",
      "source": [
        "**import library**"
      ],
      "metadata": {
        "id": "a_Mh2BNaSJGi"
      }
    },
    {
      "cell_type": "code",
      "execution_count": 3,
      "metadata": {
        "id": "rbmqebeqSFEy"
      },
      "outputs": [],
      "source": [
        "import keras\n",
        "from keras.datasets import cifar10\n",
        "from keras.preprocessing.image import ImageDataGenerator\n",
        "from keras.models import Sequential\n",
        "from keras.layers import Dense,Dropout,Activation, Conv2D,MaxPooling2D,GlobalMaxPooling2D,BatchNormalization\n",
        "\n"
      ]
    },
    {
      "cell_type": "markdown",
      "source": [
        "**Load Data**"
      ],
      "metadata": {
        "id": "KCiPp33yUiq1"
      }
    },
    {
      "cell_type": "code",
      "source": [
        "batch_size=32\n",
        "data_augumentation=True\n",
        "num_class=10\n",
        "\n",
        "# Loading data from dataset and split it to train data and test data\n",
        "(x_train,y_train),(x_test,y_test)=cifar10.load_data()\n",
        "\n",
        "# printing just for demonstration\n",
        "print(\"x_train shape:\",x_train.shape)\n",
        "print(x_train.shape[0],\"x_train samples\")\n",
        "print(x_test.shape[0],\"x_test samples\")"
      ],
      "metadata": {
        "colab": {
          "base_uri": "https://localhost:8080/"
        },
        "id": "wROVt6SHUGT5",
        "outputId": "3fad6c37-183b-4fab-c31a-30e254572b97"
      },
      "execution_count": 5,
      "outputs": [
        {
          "output_type": "stream",
          "name": "stdout",
          "text": [
            "x_train shape: (50000, 32, 32, 3)\n",
            "50000 x_train samples\n",
            "10000 x_test samples\n"
          ]
        }
      ]
    },
    {
      "cell_type": "markdown",
      "source": [
        "**Convert class vector to binary matrix**\n"
      ],
      "metadata": {
        "id": "mkJt6GcFWSfx"
      }
    },
    {
      "cell_type": "code",
      "source": [
        "y_train=keras.utils.to_categorical(y_train, num_class)\n",
        "y_test=keras.utils.to_categorical(y_test, num_class)\n",
        "\n",
        "x_train=x_train.astype('float32')\n",
        "x_test=x_test.astype('float32')"
      ],
      "metadata": {
        "id": "ZzEJPgtKWYoE"
      },
      "execution_count": 6,
      "outputs": []
    },
    {
      "cell_type": "markdown",
      "source": [
        "**creating some models just for practic**"
      ],
      "metadata": {
        "id": "HsSU7Z19Yf7p"
      }
    },
    {
      "cell_type": "code",
      "source": [
        "model= Sequential()\n",
        "\n",
        "model.add(Conv2D(32,(3,3),kernel_initializer='random_normal',input_shape=x_train.shape[1:]))\n",
        "model.add(Activation('relu'))\n",
        "\n",
        "model.add(Conv2D(32,(3,3),kernel_initializer='random_normal',input_shape=x_train.shape[1:]))\n",
        "model.add(Activation('relu'))\n",
        "\n",
        "model.add(Conv2D(32,(3,3),kernel_initializer='random_normal',input_shape=x_train.shape[1:]))\n",
        "model.add(Activation('relu'))\n",
        "\n",
        "model.add(Conv2D(48,(3,3),kernel_initializer='random_normal',input_shape=x_train.shape[1:]))\n",
        "model.add(Activation('relu'))\n",
        "\n",
        "model.add(Conv2D(48,(3,3),kernel_initializer='random_normal',input_shape=x_train.shape[1:]))\n",
        "model.add(Activation('relu'))\n",
        "\n",
        "model.add(GlobalMaxPooling2D())\n",
        "model.add(Dense(500))\n",
        "model.add(Dropout(0.25))\n",
        "model.add(Dense(num_class))\n",
        "model.add(Activation('softmax'))\n",
        "model.summary()\n"
      ],
      "metadata": {
        "colab": {
          "base_uri": "https://localhost:8080/"
        },
        "id": "e2Xq0l7YXFs7",
        "outputId": "d3ec3200-d1a6-4e7a-e510-9bb53343feec"
      },
      "execution_count": 9,
      "outputs": [
        {
          "output_type": "stream",
          "name": "stdout",
          "text": [
            "Model: \"sequential_2\"\n",
            "_________________________________________________________________\n",
            " Layer (type)                Output Shape              Param #   \n",
            "=================================================================\n",
            " conv2d_6 (Conv2D)           (None, 30, 30, 32)        896       \n",
            "                                                                 \n",
            " activation_5 (Activation)   (None, 30, 30, 32)        0         \n",
            "                                                                 \n",
            " conv2d_7 (Conv2D)           (None, 28, 28, 32)        9248      \n",
            "                                                                 \n",
            " activation_6 (Activation)   (None, 28, 28, 32)        0         \n",
            "                                                                 \n",
            " conv2d_8 (Conv2D)           (None, 26, 26, 32)        9248      \n",
            "                                                                 \n",
            " activation_7 (Activation)   (None, 26, 26, 32)        0         \n",
            "                                                                 \n",
            " conv2d_9 (Conv2D)           (None, 24, 24, 48)        13872     \n",
            "                                                                 \n",
            " activation_8 (Activation)   (None, 24, 24, 48)        0         \n",
            "                                                                 \n",
            " conv2d_10 (Conv2D)          (None, 22, 22, 48)        20784     \n",
            "                                                                 \n",
            " activation_9 (Activation)   (None, 22, 22, 48)        0         \n",
            "                                                                 \n",
            " global_max_pooling2d (Globa  (None, 48)               0         \n",
            " lMaxPooling2D)                                                  \n",
            "                                                                 \n",
            " dense (Dense)               (None, 500)               24500     \n",
            "                                                                 \n",
            " dropout (Dropout)           (None, 500)               0         \n",
            "                                                                 \n",
            " dense_1 (Dense)             (None, 10)                5010      \n",
            "                                                                 \n",
            " activation_10 (Activation)  (None, 10)                0         \n",
            "                                                                 \n",
            "=================================================================\n",
            "Total params: 83,558\n",
            "Trainable params: 83,558\n",
            "Non-trainable params: 0\n",
            "_________________________________________________________________\n"
          ]
        }
      ]
    },
    {
      "cell_type": "markdown",
      "source": [
        "**Add optimizer**"
      ],
      "metadata": {
        "id": "9cfdGs_larbw"
      }
    },
    {
      "cell_type": "code",
      "source": [
        "model.compile(loss='categorical_crossentropy',optimizer='RMSprop',metrics=['accuracy'])"
      ],
      "metadata": {
        "id": "dxGG2Kd0at5J"
      },
      "execution_count": 12,
      "outputs": []
    }
  ]
}